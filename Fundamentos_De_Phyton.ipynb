{
  "nbformat": 4,
  "nbformat_minor": 0,
  "metadata": {
    "colab": {
      "provenance": [],
      "authorship_tag": "ABX9TyM7MX31gkrrQ12EHCVPi537",
      "include_colab_link": true
    },
    "kernelspec": {
      "name": "python3",
      "display_name": "Python 3"
    },
    "language_info": {
      "name": "python"
    }
  },
  "cells": [
    {
      "cell_type": "markdown",
      "metadata": {
        "id": "view-in-github",
        "colab_type": "text"
      },
      "source": [
        "<a href=\"https://colab.research.google.com/github/ernesto0721/phyton./blob/main/Fundamentos_De_Phyton.ipynb\" target=\"_parent\"><img src=\"https://colab.research.google.com/assets/colab-badge.svg\" alt=\"Open In Colab\"/></a>"
      ]
    },
    {
      "cell_type": "code",
      "source": [
        "print(\"hola mundo\")\n",
        "nombre = \"Ernesto Urias\"\n",
        "\n",
        "print(\"hola \", nombre, \", inicial:\", nombre[0], nombre[5])"
      ],
      "metadata": {
        "colab": {
          "base_uri": "https://localhost:8080/"
        },
        "id": "iPReJiaG5Xuz",
        "outputId": "18fde864-30b0-4ff2-aa49-fa9033afcc7d"
      },
      "execution_count": null,
      "outputs": [
        {
          "output_type": "stream",
          "name": "stdout",
          "text": [
            "hola mundo\n",
            "hola  Ernesto Urias , inicial: E t\n"
          ]
        }
      ]
    },
    {
      "cell_type": "markdown",
      "source": [
        "EJERCICIO,crear un programa en phyton que sume dos numeros"
      ],
      "metadata": {
        "id": "yxHYImok-qPi"
      }
    },
    {
      "cell_type": "code",
      "source": [
        "num1 = 5\n",
        "num2 = 9.5\n",
        "resp = num1 + num2\n",
        "print(\"la suma es: \", resp)"
      ],
      "metadata": {
        "colab": {
          "base_uri": "https://localhost:8080/"
        },
        "id": "CspW1R47-n8T",
        "outputId": "98e66b84-41c5-40ab-903f-9031af6da2d7"
      },
      "execution_count": null,
      "outputs": [
        {
          "output_type": "stream",
          "name": "stdout",
          "text": [
            "la suma es:  14.5\n"
          ]
        }
      ]
    },
    {
      "cell_type": "markdown",
      "source": [
        "EJERCICIO, crear un programa en phyton que sumedos numeros introducidos por el usuario"
      ],
      "metadata": {
        "id": "DwyTZ2os_pyx"
      }
    },
    {
      "cell_type": "code",
      "source": [
        "print(\"num 1\")\n",
        "num1 = float(input())\n",
        "\n",
        "print(\"num 2\")\n",
        "num2 = float(input())\n",
        "\n",
        "resp = num1 + num2\n",
        "print(\"La suma es: \", resp)"
      ],
      "metadata": {
        "colab": {
          "base_uri": "https://localhost:8080/"
        },
        "id": "N-ko9kZoAEPQ",
        "outputId": "f54abcce-510e-4100-8153-71914581a40f"
      },
      "execution_count": null,
      "outputs": [
        {
          "output_type": "stream",
          "name": "stdout",
          "text": [
            "num 1\n",
            "5.0\n",
            "num 2\n",
            "1\n",
            "La suma es:  6.0\n"
          ]
        }
      ]
    },
    {
      "cell_type": "code",
      "source": [
        "nombre = \"Ernesto Urias\"\n",
        "print(nombre[0:7], nombre[:7], nombre[-1], nombre[5:len(nombre)])\n",
        "\n",
        "estado = True\n",
        "print(estado)\n",
        "\n",
        "print(type(nombre), type(num1), type(num2), type(estado))"
      ],
      "metadata": {
        "colab": {
          "base_uri": "https://localhost:8080/"
        },
        "id": "cxWRH5ccCL8V",
        "outputId": "ba4eead1-fc0b-42c5-fef1-89361af0ac33"
      },
      "execution_count": null,
      "outputs": [
        {
          "output_type": "stream",
          "name": "stdout",
          "text": [
            "Ernesto Ernesto s to Urias\n",
            "True\n",
            "<class 'str'> <class 'float'> <class 'float'> <class 'bool'>\n"
          ]
        }
      ]
    },
    {
      "cell_type": "markdown",
      "source": [
        "EJERCICIO, creeun programa en phyton que lea un numero y determine si es par impar"
      ],
      "metadata": {
        "id": "_DCs-93TEsyR"
      }
    },
    {
      "cell_type": "code",
      "source": [
        "num = int(input(\"ingrese un numero:\"))\n",
        "if num % 2 == 0:\n",
        "  print(\"el numero es par\", num)\n",
        "else:\n",
        "    print(\"elnumero es impar\")"
      ],
      "metadata": {
        "colab": {
          "base_uri": "https://localhost:8080/"
        },
        "id": "AWL2AClYDpYY",
        "outputId": "0556c94d-f7e7-4ae5-e5be-6fba1b22df1d"
      },
      "execution_count": null,
      "outputs": [
        {
          "output_type": "stream",
          "name": "stdout",
          "text": [
            "ingrese un numero:2\n",
            "el numero es par 2\n"
          ]
        }
      ]
    },
    {
      "cell_type": "markdown",
      "source": [
        "Ejercicio: uso de las funciones de usuario, con la suma de dos numeros"
      ],
      "metadata": {
        "id": "y_ErcREzTFq9"
      }
    },
    {
      "cell_type": "code",
      "source": [
        "def suma(num1,num2):\n",
        "  return num1 + num2"
      ],
      "metadata": {
        "id": "wMQ2L_5aSyht"
      },
      "execution_count": null,
      "outputs": []
    },
    {
      "cell_type": "code",
      "source": [
        "  num1 = float(input(\"num1:\"))\n",
        "  num2 = float(input(\"num2:\"))\n",
        "  resp = suma(num1,num2)\n",
        "  print(\"La suma es: \", resp)"
      ],
      "metadata": {
        "collapsed": true,
        "colab": {
          "base_uri": "https://localhost:8080/"
        },
        "id": "XUQwfUIcPq_X",
        "outputId": "3342e60f-2710-4a14-f190-51406d0d08c8"
      },
      "execution_count": null,
      "outputs": [
        {
          "output_type": "stream",
          "name": "stdout",
          "text": [
            "num1:5\n",
            "num2:6\n",
            "La suma es:  11.0\n"
          ]
        }
      ]
    },
    {
      "cell_type": "markdown",
      "source": [
        "Ejercicio: convertir grados celsius a farenheit, usando funciones de usuario"
      ],
      "metadata": {
        "id": "bJQNj5m9Tp5P"
      }
    },
    {
      "cell_type": "code",
      "source": [
        "def covertir_cf(c):\n",
        "  return c*1.8 + 32"
      ],
      "metadata": {
        "id": "0_AChcYhToWv"
      },
      "execution_count": null,
      "outputs": []
    },
    {
      "cell_type": "code",
      "source": [
        "c = float(input(\"celsius:\"))\n",
        "print(\"f: \", covertir_cf(c))"
      ],
      "metadata": {
        "colab": {
          "base_uri": "https://localhost:8080/"
        },
        "id": "ILxUcaMvUg8-",
        "outputId": "bae3d484-6cc0-4f3b-b157-bd799abbb77f"
      },
      "execution_count": null,
      "outputs": [
        {
          "output_type": "stream",
          "name": "stdout",
          "text": [
            "celsius:33\n",
            "f:  91.4\n"
          ]
        }
      ]
    },
    {
      "cell_type": "markdown",
      "source": [
        "Ejercicio: Determina si un numero es par o impar"
      ],
      "metadata": {
        "id": "YZZvAsilW0F4"
      }
    },
    {
      "cell_type": "code",
      "source": [
        "def parImpar(num):\n",
        "   if(num%2==0):\n",
        "     return \"par\"\n",
        "   return \"impar\""
      ],
      "metadata": {
        "id": "7rLIRr6jWxZ4"
      },
      "execution_count": null,
      "outputs": []
    },
    {
      "cell_type": "code",
      "source": [
        "num = int(input(\"num: \"))\n",
        "print (\"el numero\", num, \" es: \", parImpar(num))"
      ],
      "metadata": {
        "colab": {
          "base_uri": "https://localhost:8080/"
        },
        "id": "e2aW0HVeYPQv",
        "outputId": "ab25de5a-c8d7-41d0-ec00-0eb47f161dd5"
      },
      "execution_count": null,
      "outputs": [
        {
          "output_type": "stream",
          "name": "stdout",
          "text": [
            "num: 4\n",
            "el numero 4  es:  par\n"
          ]
        }
      ]
    },
    {
      "cell_type": "markdown",
      "source": [
        "Ejercicio: calcular sueldo de trabajo"
      ],
      "metadata": {
        "id": "BjeRwAPsPRKk"
      }
    },
    {
      "cell_type": "code",
      "source": [
        "def sueldo(horas, valor):\n",
        "  return horas * valor * 30"
      ],
      "metadata": {
        "id": "3zINM9wOPwe9"
      },
      "execution_count": null,
      "outputs": []
    },
    {
      "cell_type": "code",
      "source": [
        "horas = int(input(\"horas: \"))\n",
        "valor = float(input(\"valor: \"))\n",
        "print(\"sueldo: \", sueldo(horas, valor))"
      ],
      "metadata": {
        "id": "BN_6L2AJP5iV",
        "outputId": "ee36564e-05e2-4fe1-8495-b5be0eb50fe4",
        "colab": {
          "base_uri": "https://localhost:8080/"
        }
      },
      "execution_count": null,
      "outputs": [
        {
          "output_type": "stream",
          "name": "stdout",
          "text": [
            "horas: 8\n",
            "valor: 1.50\n",
            "sueldo:  360.0\n"
          ]
        }
      ]
    },
    {
      "cell_type": "markdown",
      "source": [
        "**TAREA:** Covertir grados fahrenheit a celsius"
      ],
      "metadata": {
        "id": "w7MWoctEBv2z"
      }
    },
    {
      "cell_type": "code",
      "source": [
        "def covertir(f):\n",
        "  c = (f-32) * 5/9\n",
        "  return c"
      ],
      "metadata": {
        "id": "y1y5TlZKC23L"
      },
      "execution_count": null,
      "outputs": []
    },
    {
      "cell_type": "code",
      "source": [
        "f = float(input(\"ingresa los grados fahrenheit: \"))\n",
        "print(f\"La coversion a grados celsius es: ¨{covertir(f)}\")"
      ],
      "metadata": {
        "id": "iGbc97zFDZkT",
        "outputId": "f5d024bf-1754-4cd2-f226-7134dc3d321d",
        "colab": {
          "base_uri": "https://localhost:8080/"
        }
      },
      "execution_count": null,
      "outputs": [
        {
          "output_type": "stream",
          "name": "stdout",
          "text": [
            "ingresa los grados fahrenheit: 5\n",
            "La coversion a grados celsius es: ¨-15.0\n"
          ]
        }
      ]
    },
    {
      "cell_type": "markdown",
      "source": [
        "Convertir grados celsius y fahrenheit a kelvin"
      ],
      "metadata": {
        "id": "jmFlbjuRGZyr"
      }
    },
    {
      "cell_type": "code",
      "source": [
        "def celsius_a_fahrenheit(c):\n",
        "  return (c * 9/5) + 32\n",
        "\n",
        "def celsius_a_kelvin(c):\n",
        "  return c + 273.15\n",
        "\n",
        "def fahrenheit_a_celsius(f):\n",
        "    return (f - 32) * 5/9\n",
        "\n",
        "def fahrenheit_a_kelvin(f):\n",
        "    return (f + 459.67) * 5/9\n",
        "\n",
        "def kelvin_a_celsius(k):\n",
        "    return k - 273.15\n",
        "\n",
        "def kelvin_a_fahrenheit(k):\n",
        "    return (k * 9/5) - 459.67"
      ],
      "metadata": {
        "id": "T7a_tRW-GnhJ"
      },
      "execution_count": 58,
      "outputs": []
    },
    {
      "cell_type": "code",
      "source": [
        "seleccione = input(\"escribe '1' para convertir Celsius o escribe '2' para convertir Fahrenheit: \")\n",
        "seleccion = int(seleccione)\n",
        "\n",
        "if seleccion == 1:\n",
        " c= float(input(\"ingresa los grados celsius: \"))\n",
        "elif seleccion == 2:\n",
        " f= float(input(\"ingresa los grados fahrenheit: \"))\n",
        "\n",
        "celsius = fahrenheit_a_celsius(f)\n",
        "kelvin = celsius_a_kelvin(c)\n",
        "fahrenheit = celsius_a_fahrenheit(kelvin)\n",
        "\n",
        "print(\"Celsius:\", c)\n",
        "print(\"Fahrenheit:\", f)\n",
        "print(\"Kelvin:\", kelvin)"
      ],
      "metadata": {
        "id": "MUQEMtAJJzKr",
        "outputId": "7163e4ec-b038-4dfe-fd13-5964a25b7559",
        "colab": {
          "base_uri": "https://localhost:8080/"
        }
      },
      "execution_count": 68,
      "outputs": [
        {
          "output_type": "stream",
          "name": "stdout",
          "text": [
            "escribe '1' para convertir Celsius o escribe '2' para convertir Fahrenheit: 2\n",
            "ingresa los grados fahrenheit: 25\n",
            "Celsius: 0.0\n",
            "Fahrenheit: 25.0\n",
            "Kelvin: 273.15\n"
          ]
        }
      ]
    },
    {
      "cell_type": "markdown",
      "source": [
        "Convertir grados celsius y fahrenheit a kelvin"
      ],
      "metadata": {
        "id": "wGh_VCcrFEht"
      }
    },
    {
      "cell_type": "code",
      "source": [
        "seleccion = input(\"escribe '1' para convertir Celsius o escribe '2' para convertir Fahrenheit: \")\n",
        "if seleccion == \"1\":\n",
        "   def covertir_cf(c):\n",
        "       return c + 273.15\n",
        "   c = float(input(\"Grados Celsiusa covertir: \"))\n",
        "   print(\"Grados celsius a covertir:  \", covertir_cf(c))\n",
        "elif seleccion == \"2\":\n",
        "     def covertir_fk(f):\n",
        "        return (f - 32) * 5/9 + 273.15\n",
        "     f = float(input(\"Grados Fahrenheit covertir: \"))\n",
        "     print(\"Grados Fahrenheit a covertir:  \", covertir_fk(f))\n",
        "else:\n",
        "    print(\"opcion no valida\")\n",
        "\n",
        "\n"
      ],
      "metadata": {
        "id": "lebtmCV58FjM",
        "outputId": "9557d359-b70d-4785-d4f9-ae1b10d7bec1",
        "colab": {
          "base_uri": "https://localhost:8080/"
        }
      },
      "execution_count": 72,
      "outputs": [
        {
          "output_type": "stream",
          "name": "stdout",
          "text": [
            "escribe '1' para convertir Celsius o escribe '2' para convertir Fahrenheit: 1\n",
            "Grados Celsiusa covertir: 70\n",
            "Grados celsius a covertir:   343.15\n"
          ]
        }
      ]
    },
    {
      "cell_type": "markdown",
      "source": [
        "EJERCICIO: obtener la raiz cuadrada de una serie de numero fijos"
      ],
      "metadata": {
        "id": "D7tZQ8hAFMEH"
      }
    },
    {
      "cell_type": "code",
      "source": [
        "def raizCuadrada(num):\n",
        "  return num ** 0.5"
      ],
      "metadata": {
        "id": "BSLorz4gFbus"
      },
      "execution_count": 74,
      "outputs": []
    },
    {
      "cell_type": "code",
      "source": [
        "serie = [6, 9, 16, 25]\n",
        "resp = map(raizCuadrada, serie)\n",
        "print(list(resp))"
      ],
      "metadata": {
        "id": "jtCbaBVBGF0-",
        "outputId": "1c98a664-1a11-4f26-90a3-ccded22f41e9",
        "colab": {
          "base_uri": "https://localhost:8080/"
        }
      },
      "execution_count": 75,
      "outputs": [
        {
          "output_type": "stream",
          "name": "stdout",
          "text": [
            "[2.449489742783178, 3.0, 4.0, 5.0]\n"
          ]
        }
      ]
    }
  ]
}