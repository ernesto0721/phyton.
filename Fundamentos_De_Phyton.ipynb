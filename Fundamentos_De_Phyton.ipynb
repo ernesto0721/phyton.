{
  "nbformat": 4,
  "nbformat_minor": 0,
  "metadata": {
    "colab": {
      "provenance": [],
      "authorship_tag": "ABX9TyPmwN9FGnOQlQNhGMHWnHJ+",
      "include_colab_link": true
    },
    "kernelspec": {
      "name": "python3",
      "display_name": "Python 3"
    },
    "language_info": {
      "name": "python"
    }
  },
  "cells": [
    {
      "cell_type": "markdown",
      "metadata": {
        "id": "view-in-github",
        "colab_type": "text"
      },
      "source": [
        "<a href=\"https://colab.research.google.com/github/ernesto0721/phyton./blob/main/Fundamentos_De_Phyton.ipynb\" target=\"_parent\"><img src=\"https://colab.research.google.com/assets/colab-badge.svg\" alt=\"Open In Colab\"/></a>"
      ]
    },
    {
      "cell_type": "code",
      "source": [
        "print(\"hola mundo\")\n",
        "nombre = \"Ernesto Urias\"\n",
        "\n",
        "print(\"hola \", nombre, \", inicial:\", nombre[0], nombre[5])"
      ],
      "metadata": {
        "colab": {
          "base_uri": "https://localhost:8080/"
        },
        "id": "iPReJiaG5Xuz",
        "outputId": "18fde864-30b0-4ff2-aa49-fa9033afcc7d"
      },
      "execution_count": null,
      "outputs": [
        {
          "output_type": "stream",
          "name": "stdout",
          "text": [
            "hola mundo\n",
            "hola  Ernesto Urias , inicial: E t\n"
          ]
        }
      ]
    },
    {
      "cell_type": "markdown",
      "source": [
        "EJERCICIO,crear un programa en phyton que sume dos numeros"
      ],
      "metadata": {
        "id": "yxHYImok-qPi"
      }
    },
    {
      "cell_type": "code",
      "source": [
        "num1 = 5\n",
        "num2 = 9.5\n",
        "resp = num1 + num2\n",
        "print(\"la suma es: \", resp)"
      ],
      "metadata": {
        "colab": {
          "base_uri": "https://localhost:8080/"
        },
        "id": "CspW1R47-n8T",
        "outputId": "98e66b84-41c5-40ab-903f-9031af6da2d7"
      },
      "execution_count": null,
      "outputs": [
        {
          "output_type": "stream",
          "name": "stdout",
          "text": [
            "la suma es:  14.5\n"
          ]
        }
      ]
    },
    {
      "cell_type": "markdown",
      "source": [
        "EJERCICIO, crear un programa en phyton que sumedos numeros introducidos por el usuario"
      ],
      "metadata": {
        "id": "DwyTZ2os_pyx"
      }
    },
    {
      "cell_type": "code",
      "source": [
        "print(\"num 1\")\n",
        "num1 = float(input())\n",
        "\n",
        "print(\"num 2\")\n",
        "num2 = float(input())\n",
        "\n",
        "resp = num1 + num2\n",
        "print(\"La suma es: \", resp)"
      ],
      "metadata": {
        "colab": {
          "base_uri": "https://localhost:8080/"
        },
        "id": "N-ko9kZoAEPQ",
        "outputId": "f54abcce-510e-4100-8153-71914581a40f"
      },
      "execution_count": null,
      "outputs": [
        {
          "output_type": "stream",
          "name": "stdout",
          "text": [
            "num 1\n",
            "5.0\n",
            "num 2\n",
            "1\n",
            "La suma es:  6.0\n"
          ]
        }
      ]
    },
    {
      "cell_type": "code",
      "source": [
        "nombre = \"Ernesto Urias\"\n",
        "print(nombre[0:7], nombre[:7], nombre[-1], nombre[5:len(nombre)])\n",
        "\n",
        "estado = True\n",
        "print(estado)\n",
        "\n",
        "print(type(nombre), type(num1), type(num2), type(estado))"
      ],
      "metadata": {
        "colab": {
          "base_uri": "https://localhost:8080/"
        },
        "id": "cxWRH5ccCL8V",
        "outputId": "ba4eead1-fc0b-42c5-fef1-89361af0ac33"
      },
      "execution_count": null,
      "outputs": [
        {
          "output_type": "stream",
          "name": "stdout",
          "text": [
            "Ernesto Ernesto s to Urias\n",
            "True\n",
            "<class 'str'> <class 'float'> <class 'float'> <class 'bool'>\n"
          ]
        }
      ]
    },
    {
      "cell_type": "markdown",
      "source": [
        "EJERCICIO, creeun programa en phyton que lea un numero y determine si es par impar"
      ],
      "metadata": {
        "id": "_DCs-93TEsyR"
      }
    },
    {
      "cell_type": "code",
      "source": [
        "num = int(input(\"ingrese un numero:\"))\n",
        "if num % 2 == 0:\n",
        "  print(\"el numero es par\", num)\n",
        "else:\n",
        "    print(\"elnumero es impar\")"
      ],
      "metadata": {
        "colab": {
          "base_uri": "https://localhost:8080/"
        },
        "id": "AWL2AClYDpYY",
        "outputId": "59d8a250-f6c4-4fbc-83f2-a17273e9891b"
      },
      "execution_count": 2,
      "outputs": [
        {
          "output_type": "stream",
          "name": "stdout",
          "text": [
            "ingrese un numero:5\n",
            "elnumero es impar\n"
          ]
        }
      ]
    },
    {
      "cell_type": "markdown",
      "source": [
        "Realizar: (10 items como minimo por cada uno)\n",
        "Longuitud, masa, almacenamiento, tiempo, Volumen, area, Manzanas, tareas."
      ],
      "metadata": {
        "id": "MIHdpSltDmO9"
      }
    },
    {
      "cell_type": "code",
      "source": [
        "# Funciones de conversión para Longitud\n",
        "def convertir_longitud(valor, unidad_origen, unidad_destino):\n",
        "    conversiones = {\n",
        "        'm': 1,\n",
        "        'cm': 100,\n",
        "        'mm': 1000,\n",
        "        'km': 0.001,\n",
        "        'in': 39.3701,\n",
        "        'ft': 3.28084,\n",
        "        'yd': 1.09361,\n",
        "        'mi': 0.000621371,\n",
        "        'nm': 1000000000,\n",
        "        'nmi': 0.000539957\n",
        "    }\n",
        "    metros = valor / conversiones[unidad_origen]\n",
        "    return metros * conversiones[unidad_destino]\n",
        "\n",
        "# Funciones de conversión para Masa\n",
        "def convertir_masa(valor, unidad_origen, unidad_destino):\n",
        "    conversiones = {\n",
        "        'g': 1,\n",
        "        'kg': 0.001,\n",
        "        'mg': 1000,\n",
        "        't': 0.000001,\n",
        "        'lb': 0.00220462,\n",
        "        'oz': 0.035274,\n",
        "        'q': 0.00001,\n",
        "        'µg': 1000000,\n",
        "        'st': 0.000157473,\n",
        "        'dal': 0.001\n",
        "    }\n",
        "    gramos = valor / conversiones[unidad_origen]\n",
        "    return gramos * conversiones[unidad_destino]\n",
        "\n",
        "# Funciones de conversión para Almacenamiento\n",
        "def convertir_almacenamiento(valor, unidad_origen, unidad_destino):\n",
        "    conversiones = {\n",
        "        'B': 1,\n",
        "        'KB': 0.001,\n",
        "        'MB': 1e-6,\n",
        "        'GB': 1e-9,\n",
        "        'TB': 1e-12,\n",
        "        'PB': 1e-15,\n",
        "        'EB': 1e-18,\n",
        "        'ZB': 1e-21,\n",
        "        'YB': 1e-24,\n",
        "        'nibble': 0.5\n",
        "    }\n",
        "    bytes = valor / conversiones[unidad_origen]\n",
        "    return bytes * conversiones[unidad_destino]\n",
        "\n",
        "# Funciones de conversión para Tiempo\n",
        "def convertir_tiempo(valor, unidad_origen, unidad_destino):\n",
        "    conversiones = {\n",
        "        's': 1,\n",
        "        'min': 1/60,\n",
        "        'h': 1/3600,\n",
        "        'd': 1/86400,\n",
        "        'wk': 1/604800,\n",
        "        'mo': 1/2592000,\n",
        "        'yr': 1/31536000,\n",
        "        'ms': 1000,\n",
        "        'µs': 1e6,\n",
        "        'ns': 1e9\n",
        "    }\n",
        "    segundos = valor / conversiones[unidad_origen]\n",
        "    return segundos * conversiones[unidad_destino]\n",
        "\n",
        "# Funciones de conversión para Volumen\n",
        "def convertir_volumen(valor, unidad_origen, unidad_destino):\n",
        "    conversiones = {\n",
        "        'L': 1,\n",
        "        'mL': 1000,\n",
        "        'cm³': 1000,\n",
        "        'm³': 0.001,\n",
        "        'gal': 0.264172,\n",
        "        'pt': 2.11338,\n",
        "        'fl oz': 33.814,\n",
        "        'tsp': 202.884,\n",
        "        'tbsp': 67.628,\n",
        "        'bbl': 0.00628981\n",
        "    }\n",
        "    litros = valor / conversiones[unidad_origen]\n",
        "    return litros * conversiones[unidad_destino]\n",
        "\n",
        "# Funciones de conversión para Área\n",
        "def convertir_area(valor, unidad_origen, unidad_destino):\n",
        "    conversiones = {\n",
        "        'm²': 1,\n",
        "        'cm²': 10000,\n",
        "        'km²': 0.000001,\n",
        "        'ha': 0.0001,\n",
        "        'ac': 0.000247105,\n",
        "        'ft²': 10.7639,\n",
        "        'yd²': 1.19599,\n",
        "        'in²': 1550.0031,\n",
        "        'mi²': 3.861e-7,\n",
        "        'a': 0.01\n",
        "    }\n",
        "    metros_cuadrados = valor / conversiones[unidad_origen]\n",
        "    return metros_cuadrados * conversiones[unidad_destino]\n",
        "\n",
        "# Funciones de conversión para Manzanas\n",
        "def convertir_manzanas(valor, unidad_origen, unidad_destino):\n",
        "    conversiones = {\n",
        "        'manzana': 0.0064,\n",
        "        'cuerda': 0.0069,\n",
        "        'ha': 0.01,\n",
        "        'ac': 0.0247105,\n",
        "        'km²': 0.00001,\n",
        "        'm²': 6400,\n",
        "        'ft²': 68814.4,\n",
        "        'yd²': 7680,\n",
        "        'hato': 0.0064,\n",
        "        'tarea': 0.01\n",
        "    }\n",
        "    hectareas = valor / conversiones[unidad_origen]\n",
        "    return hectareas * conversiones[unidad_destino]\n",
        "\n",
        "# Funciones de conversión para Tareas\n",
        "def convertir_tareas(valor, unidad_origen, unidad_destino):\n",
        "    conversiones = {\n",
        "        'min': 1,\n",
        "        'h': 1/60,\n",
        "        'd': 1/1440,\n",
        "        'wk': 1/10080,\n",
        "        'mo': 1/43200,\n",
        "        'yr': 1/525600,\n",
        "        's': 60,\n",
        "        'turno': 1/480,\n",
        "        'reunión': 1/60,\n",
        "        'intervalo': 1/60\n",
        "    }\n",
        "    minutos = valor / conversiones[unidad_origen]\n",
        "    return minutos * conversiones[unidad_destino]\n",
        "\n",
        "# Menú de selección\n",
        "def menu():\n",
        "    print(\"Seleccione la categoría para la conversión:\")\n",
        "    print(\"1. Longitud\")\n",
        "    print(\"2. Masa\")\n",
        "    print(\"3. Almacenamiento\")\n",
        "    print(\"4. Tiempo\")\n",
        "    print(\"5. Volumen\")\n",
        "    print(\"6. Área\")\n",
        "    print(\"7. Manzanas\")\n",
        "    print(\"8. Tareas\")\n",
        "    print(\"9. Salir\")\n",
        "\n",
        "    seleccion = int(input(\"Ingrese el número de la categoría: \"))\n",
        "\n",
        "    if seleccion == 9:\n",
        "        return\n",
        "\n",
        "    if seleccion == 1:\n",
        "        categoria = 'Longitud'\n",
        "        conversion_func = convertir_longitud\n",
        "        unidades = ['m', 'cm', 'mm', 'km', 'in', 'ft', 'yd', 'mi', 'nm', 'nmi']\n",
        "    elif seleccion == 2:\n",
        "        categoria = 'Masa'\n",
        "        conversion_func = convertir_masa\n",
        "        unidades = ['g', 'kg', 'mg', 't', 'lb', 'oz', 'q', 'µg', 'st', 'dal']\n",
        "    elif seleccion == 3:\n",
        "        categoria = 'Almacenamiento'\n",
        "        conversion_func = convertir_almacenamiento\n",
        "        unidades = ['B', 'KB', 'MB', 'GB', 'TB', 'PB', 'EB', 'ZB', 'YB', 'nibble']\n",
        "    elif seleccion == 4:\n",
        "        categoria = 'Tiempo'\n",
        "        conversion_func = convertir_tiempo\n",
        "        unidades = ['s', 'min', 'h', 'd', 'wk', 'mo', 'yr', 'ms', 'µs', 'ns']\n",
        "    elif seleccion == 5:\n",
        "        categoria = 'Volumen'\n",
        "        conversion_func = convertir_volumen\n",
        "        unidades = ['L', 'mL', 'cm³', 'm³', 'gal', 'pt', 'fl oz', 'tsp', 'tbsp', 'bbl']\n",
        "    elif seleccion == 6:\n",
        "        categoria = 'Área'\n",
        "        conversion_func = convertir_area\n",
        "        unidades = ['m²', 'cm²', 'km²', 'ha', 'ac', 'ft²', 'yd²', 'in²', 'mi²', 'a']\n",
        "    elif seleccion == 7:\n",
        "        categoria = 'Manzanas'\n",
        "        conversion_func = convertir_manzanas\n",
        "        unidades = ['manzana', 'cuerda', 'ha', 'ac', 'km²', 'm²', 'ft²', 'yd²', 'hato', 'tarea']\n",
        "    elif seleccion == 8:\n",
        "        categoria = 'Tareas'\n",
        "        conversion_func = convertir_tareas\n",
        "        unidades = ['min', 'h', 'd', 'wk', 'mo', 'yr', 's', 'turno', 'reunión', 'intervalo']\n",
        "    else:\n",
        "        print(\"Selección no válida\")\n",
        "        return\n",
        "\n",
        "    print(f\"\\nCategoría: {categoria}\")\n",
        "    print(\"Unidades disponibles:\")\n",
        "    for i, unidad in enumerate(unidades):\n",
        "        print(f\"{i + 1}. {unidad}\")\n",
        "\n",
        "    origen = int(input(\"\\nSeleccione la unidad de origen: \")) - 1\n",
        "    destino = int(input(\"Seleccione la unidad de destino: \")) - 1\n",
        "\n",
        "    valor = float(input(\"Ingrese el valor a convertir: \"))\n",
        "\n",
        "    resultado = conversion_func(valor, unidades[origen], unidades[destino])\n",
        "    print(f\"\\n{valor} {unidades[origen]} = {resultado} {unidades[destino]}\\n\")\n",
        "\n",
        "# Ejecutar el menú\n",
        "menu()\n"
      ],
      "metadata": {
        "colab": {
          "base_uri": "https://localhost:8080/"
        },
        "id": "OMz3DBp2KCoI",
        "outputId": "05877a70-4ad6-4003-91ed-69d087aa8f7a"
      },
      "execution_count": 11,
      "outputs": [
        {
          "output_type": "stream",
          "name": "stdout",
          "text": [
            "Seleccione la categoría para la conversión:\n",
            "1. Longitud\n",
            "2. Masa\n",
            "3. Almacenamiento\n",
            "4. Tiempo\n",
            "5. Volumen\n",
            "6. Área\n",
            "7. Manzanas\n",
            "8. Tareas\n",
            "9. Salir\n",
            "Ingrese el número de la categoría: 1\n",
            "\n",
            "Categoría: Longitud\n",
            "Unidades disponibles:\n",
            "1. m\n",
            "2. cm\n",
            "3. mm\n",
            "4. km\n",
            "5. in\n",
            "6. ft\n",
            "7. yd\n",
            "8. mi\n",
            "9. nm\n",
            "10. nmi\n",
            "\n",
            "Seleccione la unidad de origen: 1\n",
            "Seleccione la unidad de destino: 7\n",
            "Ingrese el valor a convertir: 12\n",
            "\n",
            "12.0 m = 13.12332 yd\n",
            "\n"
          ]
        }
      ]
    }
  ]
}