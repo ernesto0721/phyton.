{
  "nbformat": 4,
  "nbformat_minor": 0,
  "metadata": {
    "colab": {
      "provenance": [],
      "authorship_tag": "ABX9TyPUz5r5GHeY/K4FKexrT6nt",
      "include_colab_link": true
    },
    "kernelspec": {
      "name": "python3",
      "display_name": "Python 3"
    },
    "language_info": {
      "name": "python"
    }
  },
  "cells": [
    {
      "cell_type": "markdown",
      "metadata": {
        "id": "view-in-github",
        "colab_type": "text"
      },
      "source": [
        "<a href=\"https://colab.research.google.com/github/ernesto0721/phyton./blob/main/Fundamentos_De_Phyton.ipynb\" target=\"_parent\"><img src=\"https://colab.research.google.com/assets/colab-badge.svg\" alt=\"Open In Colab\"/></a>"
      ]
    },
    {
      "cell_type": "code",
      "source": [
        "print(\"hola mundo\")\n",
        "nombre = \"Ernesto Urias\"\n",
        "\n",
        "print(\"hola \", nombre, \", inicial:\", nombre[0], nombre[5])"
      ],
      "metadata": {
        "colab": {
          "base_uri": "https://localhost:8080/"
        },
        "id": "iPReJiaG5Xuz",
        "outputId": "18fde864-30b0-4ff2-aa49-fa9033afcc7d"
      },
      "execution_count": null,
      "outputs": [
        {
          "output_type": "stream",
          "name": "stdout",
          "text": [
            "hola mundo\n",
            "hola  Ernesto Urias , inicial: E t\n"
          ]
        }
      ]
    },
    {
      "cell_type": "markdown",
      "source": [
        "EJERCICIO,crear un programa en phyton que sume dos numeros"
      ],
      "metadata": {
        "id": "yxHYImok-qPi"
      }
    },
    {
      "cell_type": "code",
      "source": [
        "num1 = 5\n",
        "num2 = 9.5\n",
        "resp = num1 + num2\n",
        "print(\"la suma es: \", resp)"
      ],
      "metadata": {
        "colab": {
          "base_uri": "https://localhost:8080/"
        },
        "id": "CspW1R47-n8T",
        "outputId": "98e66b84-41c5-40ab-903f-9031af6da2d7"
      },
      "execution_count": null,
      "outputs": [
        {
          "output_type": "stream",
          "name": "stdout",
          "text": [
            "la suma es:  14.5\n"
          ]
        }
      ]
    },
    {
      "cell_type": "markdown",
      "source": [
        "EJERCICIO, crear un programa en phyton que sumedos numeros introducidos por el usuario"
      ],
      "metadata": {
        "id": "DwyTZ2os_pyx"
      }
    },
    {
      "cell_type": "code",
      "source": [
        "print(\"num 1\")\n",
        "num1 = float(input())\n",
        "\n",
        "print(\"num 2\")\n",
        "num2 = float(input())\n",
        "\n",
        "resp = num1 + num2\n",
        "print(\"La suma es: \", resp)"
      ],
      "metadata": {
        "colab": {
          "base_uri": "https://localhost:8080/"
        },
        "id": "N-ko9kZoAEPQ",
        "outputId": "f54abcce-510e-4100-8153-71914581a40f"
      },
      "execution_count": null,
      "outputs": [
        {
          "output_type": "stream",
          "name": "stdout",
          "text": [
            "num 1\n",
            "5.0\n",
            "num 2\n",
            "1\n",
            "La suma es:  6.0\n"
          ]
        }
      ]
    },
    {
      "cell_type": "code",
      "source": [
        "nombre = \"Ernesto Urias\"\n",
        "print(nombre[0:7], nombre[:7], nombre[-1], nombre[5:len(nombre)])\n",
        "\n",
        "estado = True\n",
        "print(estado)\n",
        "\n",
        "print(type(nombre), type(num1), type(num2), type(estado))"
      ],
      "metadata": {
        "colab": {
          "base_uri": "https://localhost:8080/"
        },
        "id": "cxWRH5ccCL8V",
        "outputId": "ba4eead1-fc0b-42c5-fef1-89361af0ac33"
      },
      "execution_count": null,
      "outputs": [
        {
          "output_type": "stream",
          "name": "stdout",
          "text": [
            "Ernesto Ernesto s to Urias\n",
            "True\n",
            "<class 'str'> <class 'float'> <class 'float'> <class 'bool'>\n"
          ]
        }
      ]
    },
    {
      "cell_type": "markdown",
      "source": [
        "EJERCICIO, creeun programa en phyton que lea un numero y determine si es par impar"
      ],
      "metadata": {
        "id": "_DCs-93TEsyR"
      }
    },
    {
      "cell_type": "code",
      "source": [
        "num = int(input(\"ingrese un numero:\"))\n",
        "if num % 2 == 0:\n",
        "  print(\"el numero es par\", num)\n",
        "else:\n",
        "    print(\"elnumero es impar\")"
      ],
      "metadata": {
        "colab": {
          "base_uri": "https://localhost:8080/"
        },
        "id": "AWL2AClYDpYY",
        "outputId": "0556c94d-f7e7-4ae5-e5be-6fba1b22df1d"
      },
      "execution_count": 3,
      "outputs": [
        {
          "output_type": "stream",
          "name": "stdout",
          "text": [
            "ingrese un numero:2\n",
            "el numero es par 2\n"
          ]
        }
      ]
    },
    {
      "cell_type": "markdown",
      "source": [
        "Ejercicio: uso de las funciones de usuario, con la suma de dos numeros"
      ],
      "metadata": {
        "id": "y_ErcREzTFq9"
      }
    },
    {
      "cell_type": "code",
      "source": [
        "def suma(num1,num2):\n",
        "  return num1 + num2"
      ],
      "metadata": {
        "id": "wMQ2L_5aSyht"
      },
      "execution_count": 28,
      "outputs": []
    },
    {
      "cell_type": "code",
      "source": [
        "  num1 = float(input(\"num1:\"))\n",
        "  num2 = float(input(\"num2:\"))\n",
        "  resp = suma(num1,num2)\n",
        "  print(\"La suma es: \", resp)"
      ],
      "metadata": {
        "collapsed": true,
        "id": "XUQwfUIcPq_X",
        "outputId": "3342e60f-2710-4a14-f190-51406d0d08c8",
        "colab": {
          "base_uri": "https://localhost:8080/"
        }
      },
      "execution_count": 29,
      "outputs": [
        {
          "output_type": "stream",
          "name": "stdout",
          "text": [
            "num1:5\n",
            "num2:6\n",
            "La suma es:  11.0\n"
          ]
        }
      ]
    },
    {
      "cell_type": "markdown",
      "source": [
        "Ejercicio: convertir grados celsius a farenheit, usando funciones de usuario"
      ],
      "metadata": {
        "id": "bJQNj5m9Tp5P"
      }
    },
    {
      "cell_type": "code",
      "source": [
        "def covertir_cf(c):\n",
        "  return c*1.8 + 32"
      ],
      "metadata": {
        "id": "0_AChcYhToWv"
      },
      "execution_count": 34,
      "outputs": []
    },
    {
      "cell_type": "code",
      "source": [
        "c = float(input(\"celsius:\"))\n",
        "print(\"f: \", covertir_cf(c))"
      ],
      "metadata": {
        "id": "ILxUcaMvUg8-",
        "outputId": "bae3d484-6cc0-4f3b-b157-bd799abbb77f",
        "colab": {
          "base_uri": "https://localhost:8080/"
        }
      },
      "execution_count": 35,
      "outputs": [
        {
          "output_type": "stream",
          "name": "stdout",
          "text": [
            "celsius:33\n",
            "f:  91.4\n"
          ]
        }
      ]
    },
    {
      "cell_type": "markdown",
      "source": [
        "Ejercicio: Determina si un numero es par o impar"
      ],
      "metadata": {
        "id": "YZZvAsilW0F4"
      }
    },
    {
      "cell_type": "code",
      "source": [
        "def parimpar(num):\n",
        "   if(num%2==0):\n",
        "     return \"par\"\n",
        "   else:\n",
        "    return \"impar\""
      ],
      "metadata": {
        "id": "7rLIRr6jWxZ4"
      },
      "execution_count": 39,
      "outputs": []
    },
    {
      "cell_type": "code",
      "source": [
        "num = int(input(\"num: \"))\n",
        "print (\"el numero\", num, \" es\", parImpar(num))"
      ],
      "metadata": {
        "id": "e2aW0HVeYPQv"
      },
      "execution_count": null,
      "outputs": []
    }
  ]
}